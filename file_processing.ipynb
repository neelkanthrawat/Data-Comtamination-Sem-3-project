{
 "cells": [
  {
   "cell_type": "code",
   "execution_count": 1,
   "metadata": {},
   "outputs": [
    {
     "name": "stderr",
     "output_type": "stream",
     "text": [
      "/home/neel/anaconda3/envs/pytorch_env/lib/python3.9/site-packages/tqdm/auto.py:21: TqdmWarning: IProgress not found. Please update jupyter and ipywidgets. See https://ipywidgets.readthedocs.io/en/stable/user_install.html\n",
      "  from .autonotebook import tqdm as notebook_tqdm\n"
     ]
    }
   ],
   "source": [
    "from datasets import load_dataset\n",
    "import json"
   ]
  },
  {
   "cell_type": "code",
   "execution_count": 2,
   "metadata": {},
   "outputs": [],
   "source": [
    "import json\n",
    "import re\n",
    "import random\n",
    "import os"
   ]
  },
  {
   "cell_type": "code",
   "execution_count": 3,
   "metadata": {},
   "outputs": [],
   "source": [
    "# strg + shift + 7 for multi lines comment"
   ]
  },
  {
   "cell_type": "code",
   "execution_count": 4,
   "metadata": {},
   "outputs": [],
   "source": [
    "# Get the current working directory (where the notebook is running)\n",
    "script_dir = os.getcwd()\n",
    "\n",
    "# Construct the path to your folder (assuming it's inside the repo)\n",
    "dataset_folder_path = os.path.join(script_dir, \"datasets\")\n",
    "\n",
    "# # Read the file\n",
    "# with open(file_path, \"r\") as f:\n",
    "#     content = f.read()\n",
    "#     print(content)\n"
   ]
  },
  {
   "cell_type": "code",
   "execution_count": 5,
   "metadata": {},
   "outputs": [],
   "source": [
    "# Access a file inside that folder\n",
    "input_file = os.path.join(dataset_folder_path, \"winogrande_validation.jsonl\")\n",
    "output_file = os.path.join(dataset_folder_path, \"winogrande_val_splitup.jsonl\")"
   ]
  },
  {
   "cell_type": "code",
   "execution_count": 6,
   "metadata": {},
   "outputs": [],
   "source": [
    "import json\n",
    "import re\n",
    "\n",
    "# Load the dataset (assuming JSONL format)\n",
    "def load_winogrande(file_path):\n",
    "    with open(file_path, \"r\", encoding=\"utf-8\") as f:\n",
    "        return [json.loads(line) for line in f]\n",
    "\n",
    "# Save the processed dataset\n",
    "def save_dataset(data, output_file):\n",
    "    with open(output_file, \"w\", encoding=\"utf-8\") as f:\n",
    "        for item in data:\n",
    "            f.write(json.dumps(item) + \"\\n\")\n",
    "\n",
    "# Function to split a sentence, prioritizing \".\" (not at end), \"than\", then other punctuation\n",
    "def split_sentence(sentence):\n",
    "    # Prioritize \".\" but only if it's not at the end\n",
    "    match = re.search(r\"\\.(?!$)\", sentence)  # Ensures the period is not at the end\n",
    "    if match:\n",
    "        idx = match.start() + 1\n",
    "        return sentence[:idx], sentence[idx:].strip()\n",
    "\n",
    "    # If no \".\", prioritize other punctuation (; , :)\n",
    "    match = re.search(r\"([,;:])\", sentence)\n",
    "    if match:\n",
    "        idx = match.start() + 1  # Keep punctuation in part1\n",
    "        return sentence[:idx], sentence[idx:].strip()\n",
    "\n",
    "    # If \"than\" exists, split after the compared entity\n",
    "    idx = sentence.find(\" than \")\n",
    "    if idx != -1:\n",
    "        next_space = sentence.find(\" \", idx + 6)  # Look after \" than \"\n",
    "        if next_space != -1:\n",
    "            return sentence[:next_space], sentence[next_space:].strip()\n",
    "\n",
    "    # If no punctuation or \"than\", split in half at a word boundary\n",
    "    mid = len(sentence) // 2\n",
    "    while mid > 0 and sentence[mid] != \" \":\n",
    "        mid -= 1\n",
    "    if mid == 0:\n",
    "        mid = len(sentence) // 2\n",
    "        while mid < len(sentence) and sentence[mid] != \" \":\n",
    "            mid += 1\n",
    "    \n",
    "    return sentence[:mid].strip(), sentence[mid:].strip()\n",
    "\n",
    "# Process dataset\n",
    "def process_dataset(dataset):\n",
    "    new_data = []\n",
    "    for item in dataset:\n",
    "        sentence = item[\"sentence\"]\n",
    "        part1, part2 = split_sentence(sentence)\n",
    "        new_data.append({\"part1\": part1, \"part2\": part2, **item})  # Keep original fields\n",
    "    return new_data\n"
   ]
  },
  {
   "cell_type": "code",
   "execution_count": 9,
   "metadata": {},
   "outputs": [],
   "source": [
    "import pandas as pd"
   ]
  },
  {
   "cell_type": "code",
   "execution_count": 11,
   "metadata": {},
   "outputs": [],
   "source": [
    "input_file= os.path.join(dataset_folder_path, \"winogrande_val_splitup.jsonl\")"
   ]
  },
  {
   "cell_type": "code",
   "execution_count": 12,
   "metadata": {},
   "outputs": [
    {
     "data": {
      "text/html": [
       "<div>\n",
       "<style scoped>\n",
       "    .dataframe tbody tr th:only-of-type {\n",
       "        vertical-align: middle;\n",
       "    }\n",
       "\n",
       "    .dataframe tbody tr th {\n",
       "        vertical-align: top;\n",
       "    }\n",
       "\n",
       "    .dataframe thead th {\n",
       "        text-align: right;\n",
       "    }\n",
       "</style>\n",
       "<table border=\"1\" class=\"dataframe\">\n",
       "  <thead>\n",
       "    <tr style=\"text-align: right;\">\n",
       "      <th></th>\n",
       "      <th>part1</th>\n",
       "      <th>part2</th>\n",
       "      <th>sentence</th>\n",
       "      <th>option1</th>\n",
       "      <th>option2</th>\n",
       "      <th>answer</th>\n",
       "    </tr>\n",
       "  </thead>\n",
       "  <tbody>\n",
       "    <tr>\n",
       "      <th>0</th>\n",
       "      <td>Sarah was a much better surgeon than Maria</td>\n",
       "      <td>so _ always got the easier cases.</td>\n",
       "      <td>Sarah was a much better surgeon than Maria so ...</td>\n",
       "      <td>Sarah</td>\n",
       "      <td>Maria</td>\n",
       "      <td>2</td>\n",
       "    </tr>\n",
       "    <tr>\n",
       "      <th>1</th>\n",
       "      <td>Sarah was a much better surgeon than Maria</td>\n",
       "      <td>so _ always got the harder cases.</td>\n",
       "      <td>Sarah was a much better surgeon than Maria so ...</td>\n",
       "      <td>Sarah</td>\n",
       "      <td>Maria</td>\n",
       "      <td>1</td>\n",
       "    </tr>\n",
       "    <tr>\n",
       "      <th>2</th>\n",
       "      <td>They were worried the wine would ruin the bed ...</td>\n",
       "      <td>but the _ was't ruined.</td>\n",
       "      <td>They were worried the wine would ruin the bed ...</td>\n",
       "      <td>blanket</td>\n",
       "      <td>bed</td>\n",
       "      <td>2</td>\n",
       "    </tr>\n",
       "    <tr>\n",
       "      <th>3</th>\n",
       "      <td>Terry tried to bake the eggplant in</td>\n",
       "      <td>the toaster oven but the _ was too big.</td>\n",
       "      <td>Terry tried to bake the eggplant in the toaste...</td>\n",
       "      <td>eggplant</td>\n",
       "      <td>toaster</td>\n",
       "      <td>1</td>\n",
       "    </tr>\n",
       "    <tr>\n",
       "      <th>4</th>\n",
       "      <td>At night,</td>\n",
       "      <td>Jeffrey always stays up later than Hunter to w...</td>\n",
       "      <td>At night, Jeffrey always stays up later than H...</td>\n",
       "      <td>Jeffrey</td>\n",
       "      <td>Hunter</td>\n",
       "      <td>1</td>\n",
       "    </tr>\n",
       "    <tr>\n",
       "      <th>...</th>\n",
       "      <td>...</td>\n",
       "      <td>...</td>\n",
       "      <td>...</td>\n",
       "      <td>...</td>\n",
       "      <td>...</td>\n",
       "      <td>...</td>\n",
       "    </tr>\n",
       "    <tr>\n",
       "      <th>1262</th>\n",
       "      <td>Kenneth was really scared to have surgery but ...</td>\n",
       "      <td>_ was under a lot of stress.</td>\n",
       "      <td>Kenneth was really scared to have surgery but ...</td>\n",
       "      <td>Kenneth</td>\n",
       "      <td>Neil</td>\n",
       "      <td>1</td>\n",
       "    </tr>\n",
       "    <tr>\n",
       "      <th>1263</th>\n",
       "      <td>Joel went to Michael 's house and consumed a l...</td>\n",
       "      <td>so _ had to ride back home as a passenger.</td>\n",
       "      <td>Joel went to Michael 's house and consumed a l...</td>\n",
       "      <td>Joel</td>\n",
       "      <td>Michael</td>\n",
       "      <td>1</td>\n",
       "    </tr>\n",
       "    <tr>\n",
       "      <th>1264</th>\n",
       "      <td>At the new restaurant, Betty convinced Lindsey...</td>\n",
       "      <td>_ was relieved when she tried new things.</td>\n",
       "      <td>At the new restaurant, Betty convinced Lindsey...</td>\n",
       "      <td>Betty</td>\n",
       "      <td>Lindsey</td>\n",
       "      <td>1</td>\n",
       "    </tr>\n",
       "    <tr>\n",
       "      <th>1265</th>\n",
       "      <td>Jane received a pet tortoise and an aquarium a...</td>\n",
       "      <td>but the _ was too small.</td>\n",
       "      <td>Jane received a pet tortoise and an aquarium a...</td>\n",
       "      <td>aquarium</td>\n",
       "      <td>tortoise</td>\n",
       "      <td>1</td>\n",
       "    </tr>\n",
       "    <tr>\n",
       "      <th>1266</th>\n",
       "      <td>She chose the black car over the green car,</td>\n",
       "      <td>because the _ has more brighter color.</td>\n",
       "      <td>She chose the black car over the green car, be...</td>\n",
       "      <td>black car</td>\n",
       "      <td>green car</td>\n",
       "      <td>2</td>\n",
       "    </tr>\n",
       "  </tbody>\n",
       "</table>\n",
       "<p>1267 rows × 6 columns</p>\n",
       "</div>"
      ],
      "text/plain": [
       "                                                  part1  \\\n",
       "0            Sarah was a much better surgeon than Maria   \n",
       "1            Sarah was a much better surgeon than Maria   \n",
       "2     They were worried the wine would ruin the bed ...   \n",
       "3                   Terry tried to bake the eggplant in   \n",
       "4                                             At night,   \n",
       "...                                                 ...   \n",
       "1262  Kenneth was really scared to have surgery but ...   \n",
       "1263  Joel went to Michael 's house and consumed a l...   \n",
       "1264  At the new restaurant, Betty convinced Lindsey...   \n",
       "1265  Jane received a pet tortoise and an aquarium a...   \n",
       "1266        She chose the black car over the green car,   \n",
       "\n",
       "                                                  part2  \\\n",
       "0                     so _ always got the easier cases.   \n",
       "1                     so _ always got the harder cases.   \n",
       "2                               but the _ was't ruined.   \n",
       "3               the toaster oven but the _ was too big.   \n",
       "4     Jeffrey always stays up later than Hunter to w...   \n",
       "...                                                 ...   \n",
       "1262                       _ was under a lot of stress.   \n",
       "1263         so _ had to ride back home as a passenger.   \n",
       "1264          _ was relieved when she tried new things.   \n",
       "1265                           but the _ was too small.   \n",
       "1266             because the _ has more brighter color.   \n",
       "\n",
       "                                               sentence    option1    option2  \\\n",
       "0     Sarah was a much better surgeon than Maria so ...      Sarah      Maria   \n",
       "1     Sarah was a much better surgeon than Maria so ...      Sarah      Maria   \n",
       "2     They were worried the wine would ruin the bed ...    blanket        bed   \n",
       "3     Terry tried to bake the eggplant in the toaste...   eggplant    toaster   \n",
       "4     At night, Jeffrey always stays up later than H...    Jeffrey     Hunter   \n",
       "...                                                 ...        ...        ...   \n",
       "1262  Kenneth was really scared to have surgery but ...    Kenneth       Neil   \n",
       "1263  Joel went to Michael 's house and consumed a l...       Joel    Michael   \n",
       "1264  At the new restaurant, Betty convinced Lindsey...      Betty    Lindsey   \n",
       "1265  Jane received a pet tortoise and an aquarium a...   aquarium   tortoise   \n",
       "1266  She chose the black car over the green car, be...  black car  green car   \n",
       "\n",
       "     answer  \n",
       "0         2  \n",
       "1         1  \n",
       "2         2  \n",
       "3         1  \n",
       "4         1  \n",
       "...     ...  \n",
       "1262      1  \n",
       "1263      1  \n",
       "1264      1  \n",
       "1265      1  \n",
       "1266      2  \n",
       "\n",
       "[1267 rows x 6 columns]"
      ]
     },
     "execution_count": 12,
     "metadata": {},
     "output_type": "execute_result"
    }
   ],
   "source": [
    "dataset = load_winogrande(input_file)\n",
    "pd.DataFrame(dataset)"
   ]
  },
  {
   "cell_type": "code",
   "execution_count": 35,
   "metadata": {},
   "outputs": [
    {
     "name": "stdout",
     "output_type": "stream",
     "text": [
      "Processed dataset saved to /home/neel/Desktop/Data-Comtamination-Sem-3-project/datasets/winogrande_val_splitup.jsonl\n"
     ]
    }
   ],
   "source": [
    "dataset = load_winogrande(input_file)\n",
    "processed_data = process_dataset(dataset)  # Randomly choose method\n",
    "save_dataset(processed_data, output_file)\n",
    "\n",
    "print(f\"Processed dataset saved to {output_file}\")"
   ]
  },
  {
   "cell_type": "code",
   "execution_count": 4,
   "metadata": {},
   "outputs": [],
   "source": [
    "## for CB dataset\n",
    "import pandas as pd"
   ]
  },
  {
   "cell_type": "code",
   "execution_count": 5,
   "metadata": {},
   "outputs": [],
   "source": [
    "cb_file = os.path.join(dataset_folder_path, \"CommitmentBank-items.csv\")"
   ]
  },
  {
   "cell_type": "code",
   "execution_count": null,
   "metadata": {},
   "outputs": [],
   "source": [
    "# Load the CSV file (update 'your_file.csv' with the actual file path)\n",
    "df = pd.read_csv(cb_file)\n",
    "\n",
    "# Extract relevant columns\n",
    "df_context = df[['uID', 'Context']]\n",
    "df_embedding = df[['uID', 'Embedding']]\n",
    "df_target = df[['uID', 'Target']]\n",
    "\n",
    "# Save to separate CSV files\n",
    "df_context.to_csv(\"context_sentences.csv\", index=False)\n",
    "df_embedding.to_csv(\"prompt_sentences.csv\", index=False)\n",
    "df_target.to_csv(\"target_sentences.csv\", index=False)"
   ]
  },
  {
   "cell_type": "code",
   "execution_count": 6,
   "metadata": {},
   "outputs": [],
   "source": [
    "df = pd.read_csv(cb_file)[['uID', 'Embedding','Context', 'Target']].to_csv(\"cb_sentences.csv\", index=False)\n"
   ]
  }
 ],
 "metadata": {
  "kernelspec": {
   "display_name": "pytorch_env",
   "language": "python",
   "name": "python3"
  },
  "language_info": {
   "codemirror_mode": {
    "name": "ipython",
    "version": 3
   },
   "file_extension": ".py",
   "mimetype": "text/x-python",
   "name": "python",
   "nbconvert_exporter": "python",
   "pygments_lexer": "ipython3",
   "version": "3.9.21"
  }
 },
 "nbformat": 4,
 "nbformat_minor": 2
}
